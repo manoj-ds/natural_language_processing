{
 "cells": [
  {
   "cell_type": "code",
   "execution_count": 3,
   "id": "impossible-westminster",
   "metadata": {},
   "outputs": [],
   "source": [
    "import nltk\n"
   ]
  },
  {
   "cell_type": "markdown",
   "id": "bright-coverage",
   "metadata": {},
   "source": [
    "### What is Steeming and Why we use it?\n",
    "- Stemming is the process of reducing inflected (or sometimes derived) words to their word stem, base or root form.\n",
    "<img src=\"./images/steeming.png\" style=\"height:100px width: 500px;\" />\n",
    "- Stemming is basically removing the suffix from a word and reduce it to its root word. For example: **“Flying” is a word and its suffix is “ing”.**"
   ]
  },
  {
   "cell_type": "code",
   "execution_count": 5,
   "id": "optimum-cream",
   "metadata": {},
   "outputs": [],
   "source": [
    "\n",
    "# import these modules\n",
    "from nltk.stem import PorterStemmer\n",
    "from nltk.tokenize import word_tokenize\n"
   ]
  },
  {
   "cell_type": "code",
   "execution_count": 10,
   "id": "nasty-spoke",
   "metadata": {},
   "outputs": [
    {
     "name": "stdout",
     "output_type": "stream",
     "text": [
      "['hello', ',', 'full', 'form', 'of', 'nltk', ',', 'is', 'natur', 'languag', 'toolkit', '.', 'it', 'is', 'a', 'veri', 'power', 'packag', '.']\n"
     ]
    }
   ],
   "source": [
    "document = \"Hello, Full form of NLTK, is Natural Language Toolkit. It is a very powerful Package.\"\n",
    "word_tokens = word_tokenize(document)\n",
    "ps = PorterStemmer()\n",
    "stemmer = [ps.stem(word) for word in word_tokens]\n",
    "print (stemmer)"
   ]
  },
  {
   "cell_type": "code",
   "execution_count": null,
   "id": "traditional-wealth",
   "metadata": {},
   "outputs": [],
   "source": []
  }
 ],
 "metadata": {
  "kernelspec": {
   "display_name": "Python 3",
   "language": "python",
   "name": "python3"
  },
  "language_info": {
   "codemirror_mode": {
    "name": "ipython",
    "version": 3
   },
   "file_extension": ".py",
   "mimetype": "text/x-python",
   "name": "python",
   "nbconvert_exporter": "python",
   "pygments_lexer": "ipython3",
   "version": "3.7.0"
  }
 },
 "nbformat": 4,
 "nbformat_minor": 5
}
