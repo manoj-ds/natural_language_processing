{
 "cells": [
  {
   "cell_type": "code",
   "execution_count": 3,
   "id": "substantial-cylinder",
   "metadata": {},
   "outputs": [],
   "source": [
    "import nltk\n"
   ]
  },
  {
   "cell_type": "markdown",
   "id": "qualified-spirit",
   "metadata": {},
   "source": [
    "### What is Steeming and Why we use it?\n",
    "- Stemming is the process of reducing inflected (or sometimes derived) words to their word stem, base or root form.\n",
    "<img src=\"./images/steeming.png\" style=\"height:100px width: 500px;\" />\n",
    "- Stemming is basically removing the suffix from a word and reduce it to its root word. For example: **“Flying” is a word and its suffix is “ing”.**"
   ]
  },
  {
   "cell_type": "code",
   "execution_count": 5,
   "id": "painted-rates",
   "metadata": {},
   "outputs": [],
   "source": [
    "\n",
    "# import these modules\n",
    "from nltk.stem import PorterStemmer\n",
    "from nltk.tokenize import word_tokenize\n"
   ]
  },
  {
   "cell_type": "code",
   "execution_count": 10,
   "id": "continental-shepherd",
   "metadata": {},
   "outputs": [
    {
     "name": "stdout",
     "output_type": "stream",
     "text": [
      "['hello', ',', 'full', 'form', 'of', 'nltk', ',', 'is', 'natur', 'languag', 'toolkit', '.', 'it', 'is', 'a', 'veri', 'power', 'packag', '.']\n"
     ]
    }
   ],
   "source": [
    "document = \"Hello, Full form of NLTK, is Natural Language Toolkit. It is a very powerful Package.\"\n",
    "word_tokens = word_tokenize(document)\n",
    "ps = PorterStemmer()\n",
    "stemmer = [ps.stem(word) for word in word_tokens]\n",
    "print (stemmer)"
   ]
  },
  {
   "cell_type": "markdown",
   "id": "experimental-distinction",
   "metadata": {},
   "source": [
    "### What is lemmatization?\n",
    "- Lemmatization usually refers to doing things properly with the use of a vocabulary and morphological analysis of words.\n",
    "- Limmatization gives the word that has the proper meaning."
   ]
  },
  {
   "cell_type": "code",
   "execution_count": 11,
   "id": "cooked-fiction",
   "metadata": {},
   "outputs": [
    {
     "name": "stderr",
     "output_type": "stream",
     "text": [
      "[nltk_data] Downloading package wordnet to\n",
      "[nltk_data]     C:\\Users\\manojk\\AppData\\Roaming\\nltk_data...\n",
      "[nltk_data]   Package wordnet is already up-to-date!\n"
     ]
    },
    {
     "data": {
      "text/plain": [
       "True"
      ]
     },
     "execution_count": 11,
     "metadata": {},
     "output_type": "execute_result"
    }
   ],
   "source": [
    "nltk.download('wordnet')"
   ]
  },
  {
   "cell_type": "code",
   "execution_count": 12,
   "id": "mature-resistance",
   "metadata": {},
   "outputs": [],
   "source": [
    "from nltk.stem import WordNetLemmatizer"
   ]
  },
  {
   "cell_type": "code",
   "execution_count": 14,
   "id": "literary-paint",
   "metadata": {},
   "outputs": [
    {
     "name": "stdout",
     "output_type": "stream",
     "text": [
      "['Hello', ',', 'Full', 'form', 'of', 'NLTK', ',', 'is', 'Natural', 'Language', 'Toolkit', '.', 'It', 'is', 'a', 'very', 'powerful', 'Package', '.']\n"
     ]
    }
   ],
   "source": [
    "document = \"Hello, Full form of NLTK, is Natural Language Toolkit. It is a very powerful Package.\"\n",
    "word_tokens = word_tokenize(document)\n",
    "wn = WordNetLemmatizer()\n",
    "lemmitize_words = [wn.lemmatize(word) for word in word_tokens]\n",
    "print (lemmitize_words)"
   ]
  },
  {
   "cell_type": "markdown",
   "id": "circular-logging",
   "metadata": {},
   "source": [
    "## Lemmatization Vs Stemming?\n",
    "\n",
    "<center><img src = \"https://raw.githubusercontent.com/insaid2018/Term-1/master/Images/superman-vs-flash-justice-league.png\" height = \"200\"/></center>\n",
    "\n",
    "- Lemmatization is typically **more accurate** as it uses more informed analysis to create **groups of words** with **similar meaning** based on the content around the world.\n",
    "- While Stemming is **typically faster** as it chops off the end of a word **using heuristics**, **without** any **understanding** of the context in which a word is used apparently.\n",
    "- By applying Stemming we **may or may not** get a **meaningful word.**\n",
    "- By using Lemmatization the words of a sentence will give a **meaningful meaning** of word.\n",
    "- Lemmatization is **accurate** but is **computationally expensive**\n",
    "- Stemming is **not that accurate** but it is **faster.**"
   ]
  },
  {
   "cell_type": "code",
   "execution_count": null,
   "id": "ignored-hundred",
   "metadata": {},
   "outputs": [],
   "source": []
  }
 ],
 "metadata": {
  "kernelspec": {
   "display_name": "Python 3",
   "language": "python",
   "name": "python3"
  },
  "language_info": {
   "codemirror_mode": {
    "name": "ipython",
    "version": 3
   },
   "file_extension": ".py",
   "mimetype": "text/x-python",
   "name": "python",
   "nbconvert_exporter": "python",
   "pygments_lexer": "ipython3",
   "version": "3.7.0"
  }
 },
 "nbformat": 4,
 "nbformat_minor": 5
}
