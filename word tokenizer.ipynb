{
 "cells": [
  {
   "cell_type": "code",
   "execution_count": 1,
   "id": "compliant-louisville",
   "metadata": {},
   "outputs": [],
   "source": [
    "# Import the modules\n",
    "import nltk\n"
   ]
  },
  {
   "cell_type": "code",
   "execution_count": 2,
   "id": "derived-norman",
   "metadata": {},
   "outputs": [
    {
     "name": "stdout",
     "output_type": "stream",
     "text": [
      "showing info https://raw.githubusercontent.com/nltk/nltk_data/gh-pages/index.xml\n"
     ]
    },
    {
     "data": {
      "text/plain": [
       "True"
      ]
     },
     "execution_count": 2,
     "metadata": {},
     "output_type": "execute_result"
    }
   ],
   "source": [
    "# download the specific module from nltk\n",
    "nltk.download()"
   ]
  },
  {
   "cell_type": "code",
   "execution_count": 3,
   "id": "biological-rings",
   "metadata": {},
   "outputs": [],
   "source": [
    "document = \"Hello, Full form of NLTK, is Natural Language Toolkit. It is a very powerful Package.\""
   ]
  },
  {
   "cell_type": "code",
   "execution_count": 5,
   "id": "brief-founder",
   "metadata": {},
   "outputs": [
    {
     "data": {
      "text/plain": [
       "['Hello, Full form of NLTK, is Natural Language Toolkit.',\n",
       " 'It is a very powerful Package.']"
      ]
     },
     "execution_count": 5,
     "metadata": {},
     "output_type": "execute_result"
    }
   ],
   "source": [
    "# Tokenize sentences\n",
    "sentences = nltk.sent_tokenize(document)\n",
    "sentences"
   ]
  },
  {
   "cell_type": "code",
   "execution_count": 8,
   "id": "composed-gibson",
   "metadata": {},
   "outputs": [
    {
     "name": "stdout",
     "output_type": "stream",
     "text": [
      "['Hello', ',', 'Full', 'form', 'of', 'NLTK', ',', 'is', 'Natural', 'Language', 'Toolkit', '.', 'It', 'is', 'a', 'very', 'powerful', 'Package', '.']\n",
      "19\n"
     ]
    }
   ],
   "source": [
    "# Tokenize words\n",
    "word = nltk.word_tokenize(document)\n",
    "print(word)\n",
    "print(len(word))"
   ]
  },
  {
   "cell_type": "code",
   "execution_count": null,
   "id": "residential-gamma",
   "metadata": {},
   "outputs": [],
   "source": []
  }
 ],
 "metadata": {
  "kernelspec": {
   "display_name": "Python 3",
   "language": "python",
   "name": "python3"
  },
  "language_info": {
   "codemirror_mode": {
    "name": "ipython",
    "version": 3
   },
   "file_extension": ".py",
   "mimetype": "text/x-python",
   "name": "python",
   "nbconvert_exporter": "python",
   "pygments_lexer": "ipython3",
   "version": "3.7.0"
  }
 },
 "nbformat": 4,
 "nbformat_minor": 5
}
